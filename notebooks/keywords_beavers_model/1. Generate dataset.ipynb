{
 "cells": [
  {
   "cell_type": "markdown",
   "id": "a2c9fcbd-1e4e-4ecd-9bef-7090a7e5a540",
   "metadata": {},
   "source": [
    "# Prerequisite\n",
    "\n",
    "Following packages must be installed to run codes below\n",
    "\n",
    "```bash\n",
    "$ pip3 install openpyxl \n",
    "```\n"
   ]
  },
  {
   "cell_type": "code",
   "execution_count": null,
   "id": "a7399cd4-8b87-4182-935e-efa0b116c7ba",
   "metadata": {},
   "outputs": [],
   "source": [
    "%load_ext autoreload\n",
    "%autoreload 2"
   ]
  },
  {
   "cell_type": "markdown",
   "id": "d900d0d5-0c93-4e50-b781-30e34e0113ad",
   "metadata": {
    "tags": []
   },
   "source": [
    "# Add project path"
   ]
  },
  {
   "cell_type": "code",
   "execution_count": null,
   "id": "5ccfaedb-9029-4ead-bb95-bab2f0636826",
   "metadata": {},
   "outputs": [],
   "source": [
    "import os\n",
    "import sys\n",
    "from pathlib import Path\n",
    "\n",
    "PROJECT_PATH = Path().resolve().parent.parent\n",
    "SRC_PATH = PROJECT_PATH / 'src'\n",
    "\n",
    "sys.path.append(str(SRC_PATH))"
   ]
  },
  {
   "cell_type": "markdown",
   "id": "876c8a54-fb7f-40c2-98bd-d80b50c88fc3",
   "metadata": {},
   "source": [
    "# Load data"
   ]
  },
  {
   "cell_type": "code",
   "execution_count": null,
   "id": "925dd878-3657-4780-95e3-b3836fcc6e57",
   "metadata": {},
   "outputs": [],
   "source": [
    "from data_loader import SectorDataLoader\n",
    "\n",
    "data_loader = SectorDataLoader()\n",
    "data_finance = (\n",
    "    data_loader\n",
    "    .load_dataset()\n",
    "    .pipe(data_loader.add_beaver_indicator)\n",
    "    .pipe(data_loader.add_label)\n",
    ")\n",
    "data_finance.head()"
   ]
  },
  {
   "cell_type": "code",
   "execution_count": null,
   "id": "a65e6aee-13c0-4443-8d61-0a996ffcd8e6",
   "metadata": {},
   "outputs": [],
   "source": [
    "from project_paths import DATA_PATH\n",
    "from data_loader import GoogleTrendsDataLoader\n",
    "\n",
    "CACHED_PATH = DATA_PATH / 'cached' / 'keywords_data'\n",
    "\n",
    "data_loader = GoogleTrendsDataLoader(CACHED_PATH)"
   ]
  },
  {
   "cell_type": "code",
   "execution_count": null,
   "id": "b34f3bd0-5f1a-40dc-8f11-9cef69737a63",
   "metadata": {},
   "outputs": [],
   "source": [
    "import pandas as pd\n",
    "\n",
    "keywords = pd.DataFrame()\n",
    "keywords['keyword'] = data_finance['CMP_NM'].unique().tolist()\n",
    "keywords['geo'] = 'KR'\n",
    "keywords['timeframe'] = 'today 5-y'\n",
    "keywords"
   ]
  },
  {
   "cell_type": "code",
   "execution_count": null,
   "id": "be51ee62-b0e0-4048-8256-14c2fe1ef9ce",
   "metadata": {},
   "outputs": [],
   "source": [
    "data_loader.load_keywords(keywords, n_jobs=-1)"
   ]
  },
  {
   "cell_type": "code",
   "execution_count": null,
   "id": "3b46b66c-646c-4a80-a346-963a26eae490",
   "metadata": {},
   "outputs": [],
   "source": []
  }
 ],
 "metadata": {
  "kernelspec": {
   "display_name": "Python 3 (ipykernel)",
   "language": "python",
   "name": "python3"
  },
  "language_info": {
   "codemirror_mode": {
    "name": "ipython",
    "version": 3
   },
   "file_extension": ".py",
   "mimetype": "text/x-python",
   "name": "python",
   "nbconvert_exporter": "python",
   "pygments_lexer": "ipython3",
   "version": "3.10.6"
  }
 },
 "nbformat": 4,
 "nbformat_minor": 5
}
