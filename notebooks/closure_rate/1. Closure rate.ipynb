{
 "cells": [
  {
   "cell_type": "markdown",
   "id": "2d249e0d-5904-4338-8dce-7da58f985247",
   "metadata": {},
   "source": [
    "# Prerequisite\n",
    "\n",
    "Following packages must be installed to run codes below\n",
    "\n",
    "```bash\n",
    "$ pip3 install openpyxl plotly jupyterlab>=3 ipywidgets>=7.6\n",
    "```\n",
    "\n",
    "# References\n",
    "- [Pie charts in Python](https://plotly.com/python/pie-charts/)"
   ]
  },
  {
   "cell_type": "markdown",
   "id": "e93cf0c5-7635-4fcf-8f5a-5d8abfd57aca",
   "metadata": {
    "tags": []
   },
   "source": [
    "# Add project path"
   ]
  },
  {
   "cell_type": "code",
   "execution_count": 1,
   "id": "c078b067-f7b4-4c75-9f64-39042328e667",
   "metadata": {},
   "outputs": [],
   "source": [
    "import os\n",
    "import sys\n",
    "from pathlib import Path\n",
    "\n",
    "PROJECT_PATH = Path().resolve().parent.parent\n",
    "SRC_PATH = PROJECT_PATH / 'src'\n",
    "\n",
    "sys.path.append(str(SRC_PATH))"
   ]
  },
  {
   "cell_type": "markdown",
   "id": "34367b65-4258-449f-b1a8-fc5113683bee",
   "metadata": {},
   "source": [
    "# Load data"
   ]
  },
  {
   "cell_type": "code",
   "execution_count": 2,
   "id": "4e9439c6-0ae4-4e9c-8952-dca8d8447c78",
   "metadata": {},
   "outputs": [],
   "source": [
    "import pandas as pd\n",
    "from project_paths import DATA_PATH\n",
    "import os\n",
    "\n",
    "xlsx_filepath = DATA_PATH / 'raw' / 'KOSIS'\n",
    "xlsx_filepaths = [x for x in os.listdir(xlsx_filepath) if '.xlsx' in x]"
   ]
  },
  {
   "cell_type": "markdown",
   "id": "d2820695-f2fd-4e20-8de5-35557d7fd963",
   "metadata": {},
   "source": [
    "## 지역, 업태별\n",
    "- 9.8.2_사업자_현황Ⅱ_지역_업태_2005_20220830161041.xlsx\n",
    "- 9.8.15_폐업자_현황_Ⅵ__지역__업태_2015_20220830161446.xlsx\n",
    "- 9.8.13_폐업자_현황_Ⅳ__폐업사유__지역__업태_2005_20220830161418.xlsx\n",
    "- 9.8.21_신규사업자_현황_Ⅴ_지역__업태_2015_20220830161604.xlsx\n",
    "\n",
    "## 시, 군, 구별\n",
    "- 9.8.8_가동사업자_현황Ⅲ__시·군·구_2008_20220830161151.xlsx\n",
    "- 9.8.16__폐업자_현황_Ⅶ__시·군·구_2016_20220830161458.xlsx\n",
    "- 9.8.22_신규사업자_현황_VI__시·군·구_2016_20220830161618.xlsx\n",
    "  \n",
    "## 월, 업종별\n",
    "- 9.8.18_신규사업자_현황Ⅱ_월_업종_2012_20220830161523.xlsx\n",
    "- 9.8.4_사업자_현황_Ⅳ_업종_2007_20220830161100.xlsx"
   ]
  },
  {
   "cell_type": "markdown",
   "id": "37cbcba2-6eeb-43df-8621-853ecca183d5",
   "metadata": {},
   "source": [
    "# 지역, 업태별"
   ]
  },
  {
   "cell_type": "code",
   "execution_count": 3,
   "id": "e7928e28-c2b8-4881-81a0-f5c710b044a5",
   "metadata": {},
   "outputs": [],
   "source": [
    "class DataLoader:\n",
    "    def __init__(self, data_path):\n",
    "        self.data_path = data_path\n",
    "    \n",
    "    def load_total(self): \n",
    "        filename = '9.8.2_사업자_현황Ⅱ_지역_업태_2005_20220830161041.xlsx'\n",
    "        filepath_abs = self.data_path / 'raw' / 'KOSIS' / filename\n",
    "        data = (\n",
    "            pd.read_excel(filepath_abs)\n",
    "            .iloc[:, 1:]\n",
    "            .set_index('시도․업태별(2)')\n",
    "            .T\n",
    "        )\n",
    "        return data\n",
    "    \n",
    "    def load_closed(self):\n",
    "        filename = '9.8.15_폐업자_현황_Ⅵ__지역__업태_2015_20220830161446.xlsx'\n",
    "        filepath_abs = DATA_PATH / 'raw' / 'KOSIS' / filename\n",
    "        data = (\n",
    "            pd.read_excel(filepath_abs)\n",
    "            .rename(columns={'사업자별(1)':'사업자별',\n",
    "                            '업태별(1)':'업태별'})\n",
    "            .assign(사업자별=lambda x : x['사업자별'].ffill())\n",
    "            .assign(업태별=lambda x : x['사업자별']+'/'+x['업태별'])\n",
    "            .iloc[:, 1:]\n",
    "            .set_index('업태별')\n",
    "            .T\n",
    "        )\n",
    "        return data\n",
    "    \n",
    "    def load_new(self):\n",
    "        filename = '9.8.21_신규사업자_현황_Ⅴ_지역__업태_2015_20220830161604.xlsx'\n",
    "        filepath_abs = DATA_PATH / 'raw' / 'KOSIS' / filename\n",
    "        data = (\n",
    "            pd.read_excel(filepath_abs)\n",
    "            .rename(columns={'사업자별(1)':'사업자별',\n",
    "                            '업태별(1)':'업태별'})\n",
    "            .assign(사업자별=lambda x : x['사업자별'].ffill())\n",
    "            .assign(업태별=lambda x : x['업태별'].ffill())\n",
    "            .assign(업태별=lambda x : x['사업자별']+'/'+x['업태별'])\n",
    "            .iloc[:, 1:]\n",
    "            .set_index('업태별')\n",
    "            .T\n",
    "        )\n",
    "        return data\n",
    "    \n",
    "data_loader = DataLoader(data_path=DATA_PATH)"
   ]
  },
  {
   "cell_type": "code",
   "execution_count": 4,
   "id": "4a4d5b60-4891-4b03-803c-c4d39578a086",
   "metadata": {},
   "outputs": [],
   "source": [
    "city_names = ['서울', '인천', '경기',\n",
    "       '강원', '대전', '충북', '충남', '세종', '광주', '전북', '전남', '대구', '경북', '부산', '울산',\n",
    "       '경남', '제주']\n",
    "\n",
    "sector_names = ['농ㆍ임ㆍ어업', '광업', '제조업', '전기ㆍ가스ㆍ수도업', '도매업', '소매업',\n",
    "       '부동산매매업', '건설업', '음식업', '숙박업', '운수ㆍ창고ㆍ통신업', '부동산임대업', '대리ㆍ중개ㆍ도급업',\n",
    "       '서비스업']"
   ]
  },
  {
   "cell_type": "code",
   "execution_count": 5,
   "id": "499ad547-2f83-4173-96a0-a4ad1f90987b",
   "metadata": {},
   "outputs": [],
   "source": [
    "import plotly.express as px\n",
    "import plotly.io as pio\n",
    "pio.renderers.default = 'iframe'"
   ]
  },
  {
   "cell_type": "code",
   "execution_count": 6,
   "id": "057e2c39-2106-4fca-9455-6da5dc20a51a",
   "metadata": {},
   "outputs": [
    {
     "name": "stderr",
     "output_type": "stream",
     "text": [
      "/usr/local/lib/python3.10/site-packages/openpyxl/styles/stylesheet.py:226: UserWarning:\n",
      "\n",
      "Workbook contains no default style, apply openpyxl's default\n",
      "\n"
     ]
    }
   ],
   "source": [
    "data = data_loader.load_closed()#.loc[:, city_names]\n",
    "for column in data.columns : \n",
    "    try : \n",
    "        data.loc[:, column] = data.loc[:, column].str.replace('-', '0')\n",
    "        data.loc[:, column] = data.loc[:, column].astype(int)\n",
    "    except : \n",
    "        pass\n",
    "    "
   ]
  },
  {
   "cell_type": "code",
   "execution_count": 7,
   "id": "dbcce9fe-6ae4-4ae9-b4d4-53c8dd404b1b",
   "metadata": {},
   "outputs": [],
   "source": [
    "company_types = ['법인사업자', '일반사업자', '간이사업자', '면세사업자']"
   ]
  },
  {
   "cell_type": "code",
   "execution_count": 8,
   "id": "7639d6bf-a90a-4109-bda8-cb7ec5ac0151",
   "metadata": {},
   "outputs": [
    {
     "name": "stderr",
     "output_type": "stream",
     "text": [
      "/tmp/ipykernel_1021/2008151178.py:3: FutureWarning:\n",
      "\n",
      "Dropping of nuisance columns in DataFrame reductions (with 'numeric_only=None') is deprecated; in a future version this will raise TypeError.  Select only valid columns before calling the reduction.\n",
      "\n"
     ]
    },
    {
     "data": {
      "text/html": [
       "<iframe\n",
       "    scrolling=\"no\"\n",
       "    width=\"100%\"\n",
       "    height=\"545px\"\n",
       "    src=\"iframe_figures/figure_8.html\"\n",
       "    frameborder=\"0\"\n",
       "    allowfullscreen\n",
       "></iframe>\n"
      ]
     },
     "metadata": {},
     "output_type": "display_data"
    },
    {
     "data": {
      "text/html": [
       "<iframe\n",
       "    scrolling=\"no\"\n",
       "    width=\"100%\"\n",
       "    height=\"545px\"\n",
       "    src=\"iframe_figures/figure_8.html\"\n",
       "    frameborder=\"0\"\n",
       "    allowfullscreen\n",
       "></iframe>\n"
      ]
     },
     "metadata": {},
     "output_type": "display_data"
    }
   ],
   "source": [
    "company_type = company_types[0]\n",
    "\n",
    "fig = px.pie(data.filter(regex=company_type).iloc[1:, 1:].sum().to_frame().reset_index(drop=False), values=0, names='업태별')\n",
    "fig.show()\n",
    "\n",
    "fig = px.line(data.filter(regex=company_type).iloc[1:, 1:])\n",
    "fig.show()\n"
   ]
  },
  {
   "cell_type": "code",
   "execution_count": 11,
   "id": "d8535e97-c697-4e2b-8d15-bacbfc3b20b0",
   "metadata": {},
   "outputs": [],
   "source": [
    "company_type = company_types[1]"
   ]
  },
  {
   "cell_type": "code",
   "execution_count": 15,
   "id": "6625447c-a5e0-4e8a-aa16-feaea3d6dad6",
   "metadata": {},
   "outputs": [
    {
     "name": "stderr",
     "output_type": "stream",
     "text": [
      "/tmp/ipykernel_1021/3899570542.py:1: FutureWarning:\n",
      "\n",
      "Dropping of nuisance columns in DataFrame reductions (with 'numeric_only=None') is deprecated; in a future version this will raise TypeError.  Select only valid columns before calling the reduction.\n",
      "\n"
     ]
    },
    {
     "data": {
      "text/html": [
       "<iframe\n",
       "    scrolling=\"no\"\n",
       "    width=\"100%\"\n",
       "    height=\"545px\"\n",
       "    src=\"iframe_figures/figure_15.html\"\n",
       "    frameborder=\"0\"\n",
       "    allowfullscreen\n",
       "></iframe>\n"
      ]
     },
     "metadata": {},
     "output_type": "display_data"
    }
   ],
   "source": [
    "fig = px.pie(data.filter(regex=company_type).iloc[1:, 1:].sum().to_frame().reset_index(drop=False), values=0, names='업태별')\n",
    "fig.show()"
   ]
  },
  {
   "cell_type": "code",
   "execution_count": 16,
   "id": "29844b0b-170a-4237-92b0-64ab5e23b606",
   "metadata": {},
   "outputs": [
    {
     "data": {
      "text/html": [
       "<iframe\n",
       "    scrolling=\"no\"\n",
       "    width=\"100%\"\n",
       "    height=\"545px\"\n",
       "    src=\"iframe_figures/figure_16.html\"\n",
       "    frameborder=\"0\"\n",
       "    allowfullscreen\n",
       "></iframe>\n"
      ]
     },
     "metadata": {},
     "output_type": "display_data"
    }
   ],
   "source": [
    "fig = px.line(data.filter(regex=company_type).iloc[1:, 1:])\n",
    "fig.show()"
   ]
  },
  {
   "cell_type": "code",
   "execution_count": 17,
   "id": "2cde0e28-3877-4423-8394-52d77fca95b3",
   "metadata": {},
   "outputs": [],
   "source": [
    "company_type = company_types[2]"
   ]
  },
  {
   "cell_type": "code",
   "execution_count": 18,
   "id": "c743c8d4-98e2-4859-a2af-5356710a0a99",
   "metadata": {},
   "outputs": [
    {
     "name": "stderr",
     "output_type": "stream",
     "text": [
      "/tmp/ipykernel_1021/3899570542.py:1: FutureWarning:\n",
      "\n",
      "Dropping of nuisance columns in DataFrame reductions (with 'numeric_only=None') is deprecated; in a future version this will raise TypeError.  Select only valid columns before calling the reduction.\n",
      "\n"
     ]
    },
    {
     "data": {
      "text/html": [
       "<iframe\n",
       "    scrolling=\"no\"\n",
       "    width=\"100%\"\n",
       "    height=\"545px\"\n",
       "    src=\"iframe_figures/figure_18.html\"\n",
       "    frameborder=\"0\"\n",
       "    allowfullscreen\n",
       "></iframe>\n"
      ]
     },
     "metadata": {},
     "output_type": "display_data"
    }
   ],
   "source": [
    "fig = px.pie(data.filter(regex=company_type).iloc[1:, 1:].sum().to_frame().reset_index(drop=False), values=0, names='업태별')\n",
    "fig.show()"
   ]
  },
  {
   "cell_type": "code",
   "execution_count": 24,
   "id": "4e2916fc-6c1e-401d-8d91-00e090147025",
   "metadata": {},
   "outputs": [],
   "source": [
    "company_type = company_types[3]"
   ]
  },
  {
   "cell_type": "code",
   "execution_count": 25,
   "id": "99e4ae4f-faa3-4de9-8e6b-b97e096f43da",
   "metadata": {},
   "outputs": [
    {
     "name": "stderr",
     "output_type": "stream",
     "text": [
      "/tmp/ipykernel_1021/3899570542.py:1: FutureWarning:\n",
      "\n",
      "Dropping of nuisance columns in DataFrame reductions (with 'numeric_only=None') is deprecated; in a future version this will raise TypeError.  Select only valid columns before calling the reduction.\n",
      "\n"
     ]
    },
    {
     "data": {
      "text/html": [
       "<iframe\n",
       "    scrolling=\"no\"\n",
       "    width=\"100%\"\n",
       "    height=\"545px\"\n",
       "    src=\"iframe_figures/figure_25.html\"\n",
       "    frameborder=\"0\"\n",
       "    allowfullscreen\n",
       "></iframe>\n"
      ]
     },
     "metadata": {},
     "output_type": "display_data"
    }
   ],
   "source": [
    "fig = px.pie(data.filter(regex=company_type).iloc[1:, 1:].sum().to_frame().reset_index(drop=False), values=0, names='업태별')\n",
    "fig.show()"
   ]
  },
  {
   "cell_type": "code",
   "execution_count": 26,
   "id": "16c42832-3337-4c56-8133-5c197d2e9954",
   "metadata": {},
   "outputs": [
    {
     "data": {
      "text/html": [
       "<iframe\n",
       "    scrolling=\"no\"\n",
       "    width=\"100%\"\n",
       "    height=\"545px\"\n",
       "    src=\"iframe_figures/figure_26.html\"\n",
       "    frameborder=\"0\"\n",
       "    allowfullscreen\n",
       "></iframe>\n"
      ]
     },
     "metadata": {},
     "output_type": "display_data"
    }
   ],
   "source": [
    "fig = px.line(data.filter(regex=company_type).iloc[1:, 1:])\n",
    "fig.show()"
   ]
  },
  {
   "cell_type": "code",
   "execution_count": null,
   "id": "962ec0a0-a6ab-4c52-8af2-7a563aa044e3",
   "metadata": {},
   "outputs": [],
   "source": []
  }
 ],
 "metadata": {
  "kernelspec": {
   "display_name": "Python 3 (ipykernel)",
   "language": "python",
   "name": "python3"
  },
  "language_info": {
   "codemirror_mode": {
    "name": "ipython",
    "version": 3
   },
   "file_extension": ".py",
   "mimetype": "text/x-python",
   "name": "python",
   "nbconvert_exporter": "python",
   "pygments_lexer": "ipython3",
   "version": "3.10.6"
  }
 },
 "nbformat": 4,
 "nbformat_minor": 5
}
