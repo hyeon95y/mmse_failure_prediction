{
 "cells": [
  {
   "cell_type": "markdown",
   "id": "76b4cb66-8b16-4cab-959e-40381d5dac38",
   "metadata": {},
   "source": [
    "# Prerequisite\n",
    "\n",
    "Following packages must be installed to run codes below\n",
    "\n",
    "```bash\n",
    "$ pip3 install openpyxl\n",
    "```\n",
    "\n",
    "# References"
   ]
  },
  {
   "cell_type": "code",
   "execution_count": 1,
   "id": "fce655fe-ea30-4cc8-a6ff-80cfc7c168b6",
   "metadata": {},
   "outputs": [],
   "source": [
    "%load_ext autoreload\n",
    "%autoreload 2"
   ]
  },
  {
   "cell_type": "markdown",
   "id": "b2ea3958-dc43-48d1-b4ca-62a0775a4c75",
   "metadata": {
    "tags": []
   },
   "source": [
    "# Add project path"
   ]
  },
  {
   "cell_type": "code",
   "execution_count": 2,
   "id": "2cc55a78-c08e-46da-8592-220ff1b52f7e",
   "metadata": {},
   "outputs": [],
   "source": [
    "import os\n",
    "import sys\n",
    "from pathlib import Path\n",
    "\n",
    "PROJECT_PATH = Path().resolve().parent.parent\n",
    "SRC_PATH = PROJECT_PATH / 'src'\n",
    "\n",
    "sys.path.append(str(SRC_PATH))"
   ]
  },
  {
   "cell_type": "code",
   "execution_count": 3,
   "id": "48b82333-3cf2-467d-a0ce-dd783f908893",
   "metadata": {},
   "outputs": [
    {
     "data": {
      "text/plain": [
       "PosixPath('/home/nicednb/src')"
      ]
     },
     "execution_count": 3,
     "metadata": {},
     "output_type": "execute_result"
    }
   ],
   "source": [
    "SRC_PATH"
   ]
  },
  {
   "cell_type": "markdown",
   "id": "b316ac3f-c83e-4067-867a-44862f452aef",
   "metadata": {},
   "source": [
    "# Load data"
   ]
  },
  {
   "cell_type": "code",
   "execution_count": 4,
   "id": "f29cc3e3-facb-480d-ab3f-7b3507434676",
   "metadata": {},
   "outputs": [],
   "source": [
    "from project_paths import DATA_PATH\n",
    "from data_loader import GoogleTrendsDataLoader\n",
    "\n",
    "CACHED_PATH = DATA_PATH / 'cached' / 'keywords_data'\n",
    "\n",
    "data_loader = GoogleTrendsDataLoader(CACHED_PATH)"
   ]
  },
  {
   "cell_type": "code",
   "execution_count": 10,
   "id": "c8eb29e8-eff7-4ad5-8cc1-f1b2b0c63b39",
   "metadata": {},
   "outputs": [
    {
     "data": {
      "text/html": [
       "<div>\n",
       "<style scoped>\n",
       "    .dataframe tbody tr th:only-of-type {\n",
       "        vertical-align: middle;\n",
       "    }\n",
       "\n",
       "    .dataframe tbody tr th {\n",
       "        vertical-align: top;\n",
       "    }\n",
       "\n",
       "    .dataframe thead th {\n",
       "        text-align: right;\n",
       "    }\n",
       "</style>\n",
       "<table border=\"1\" class=\"dataframe\">\n",
       "  <thead>\n",
       "    <tr style=\"text-align: right;\">\n",
       "      <th></th>\n",
       "      <th>geo</th>\n",
       "      <th>keyword</th>\n",
       "      <th>timeframe</th>\n",
       "    </tr>\n",
       "  </thead>\n",
       "  <tbody>\n",
       "    <tr>\n",
       "      <th>0</th>\n",
       "      <td>KR</td>\n",
       "      <td>삼성전자</td>\n",
       "      <td>today 5-y</td>\n",
       "    </tr>\n",
       "    <tr>\n",
       "      <th>1</th>\n",
       "      <td>KR</td>\n",
       "      <td>SK하이닉스</td>\n",
       "      <td>today 5-y</td>\n",
       "    </tr>\n",
       "  </tbody>\n",
       "</table>\n",
       "</div>"
      ],
      "text/plain": [
       "  geo keyword  timeframe\n",
       "0  KR    삼성전자  today 5-y\n",
       "1  KR  SK하이닉스  today 5-y"
      ]
     },
     "execution_count": 10,
     "metadata": {},
     "output_type": "execute_result"
    }
   ],
   "source": [
    "import pandas as pd\n",
    "\n",
    "keywords = [\n",
    "    {\n",
    "        'geo' : 'KR',\n",
    "        'keyword' : '삼성전자',\n",
    "        'timeframe' : 'today 5-y'\n",
    "    },\n",
    "    {\n",
    "        'geo' : 'KR',\n",
    "        'keyword' : 'SK하이닉스',\n",
    "        'timeframe' : 'today 5-y'\n",
    "    }\n",
    "]\n",
    "keywords = pd.DataFrame(keywords)\n",
    "keywords"
   ]
  },
  {
   "cell_type": "code",
   "execution_count": 11,
   "id": "9d4b52dc-139e-4113-b3fe-5d14d612bfe6",
   "metadata": {},
   "outputs": [
    {
     "name": "stderr",
     "output_type": "stream",
     "text": [
      "  0%|                                                                                    | 0/2 [00:00<?, ?it/s]"
     ]
    },
    {
     "name": "stdout",
     "output_type": "stream",
     "text": [
      "/home/nicednb/data/cached/keywords_data/KR_삼성전자_2017-11-26 2022-11-11.csv The request failed: Google returned a response with code 429.\n"
     ]
    },
    {
     "name": "stderr",
     "output_type": "stream",
     "text": [
      " 50%|██████████████████████████████████████                                      | 1/2 [00:08<00:08,  8.14s/it]"
     ]
    },
    {
     "name": "stdout",
     "output_type": "stream",
     "text": [
      "/home/nicednb/data/cached/keywords_data/KR_SK하이닉스_2017-11-26 2022-11-11.csv The request failed: Google returned a response with code 429.\n"
     ]
    },
    {
     "name": "stderr",
     "output_type": "stream",
     "text": [
      "100%|████████████████████████████████████████████████████████████████████████████| 2/2 [00:15<00:00,  7.82s/it]\n"
     ]
    },
    {
     "data": {
      "text/html": [
       "<div>\n",
       "<style scoped>\n",
       "    .dataframe tbody tr th:only-of-type {\n",
       "        vertical-align: middle;\n",
       "    }\n",
       "\n",
       "    .dataframe tbody tr th {\n",
       "        vertical-align: top;\n",
       "    }\n",
       "\n",
       "    .dataframe thead th {\n",
       "        text-align: right;\n",
       "    }\n",
       "</style>\n",
       "<table border=\"1\" class=\"dataframe\">\n",
       "  <thead>\n",
       "    <tr style=\"text-align: right;\">\n",
       "      <th></th>\n",
       "      <th>geo</th>\n",
       "      <th>keyword</th>\n",
       "      <th>timeframe</th>\n",
       "      <th>success</th>\n",
       "    </tr>\n",
       "  </thead>\n",
       "  <tbody>\n",
       "    <tr>\n",
       "      <th>0</th>\n",
       "      <td>KR</td>\n",
       "      <td>삼성전자</td>\n",
       "      <td>today 5-y</td>\n",
       "      <td>True</td>\n",
       "    </tr>\n",
       "    <tr>\n",
       "      <th>1</th>\n",
       "      <td>KR</td>\n",
       "      <td>SK하이닉스</td>\n",
       "      <td>today 5-y</td>\n",
       "      <td>True</td>\n",
       "    </tr>\n",
       "  </tbody>\n",
       "</table>\n",
       "</div>"
      ],
      "text/plain": [
       "  geo keyword  timeframe success\n",
       "0  KR    삼성전자  today 5-y    True\n",
       "1  KR  SK하이닉스  today 5-y    True"
      ]
     },
     "execution_count": 11,
     "metadata": {},
     "output_type": "execute_result"
    }
   ],
   "source": [
    "data_loader.load_keywords(keywords)"
   ]
  },
  {
   "cell_type": "code",
   "execution_count": 12,
   "id": "743efe56-3aac-4e6d-88c7-7faa27500442",
   "metadata": {},
   "outputs": [
    {
     "data": {
      "text/html": [
       "<div>\n",
       "<style scoped>\n",
       "    .dataframe tbody tr th:only-of-type {\n",
       "        vertical-align: middle;\n",
       "    }\n",
       "\n",
       "    .dataframe tbody tr th {\n",
       "        vertical-align: top;\n",
       "    }\n",
       "\n",
       "    .dataframe thead th {\n",
       "        text-align: right;\n",
       "    }\n",
       "</style>\n",
       "<table border=\"1\" class=\"dataframe\">\n",
       "  <thead>\n",
       "    <tr style=\"text-align: right;\">\n",
       "      <th></th>\n",
       "      <th>date</th>\n",
       "      <th>SK하이닉스</th>\n",
       "    </tr>\n",
       "  </thead>\n",
       "  <tbody>\n",
       "    <tr>\n",
       "      <th>0</th>\n",
       "      <td>2017-11-26</td>\n",
       "      <td>49</td>\n",
       "    </tr>\n",
       "    <tr>\n",
       "      <th>1</th>\n",
       "      <td>2017-12-03</td>\n",
       "      <td>46</td>\n",
       "    </tr>\n",
       "    <tr>\n",
       "      <th>2</th>\n",
       "      <td>2017-12-10</td>\n",
       "      <td>37</td>\n",
       "    </tr>\n",
       "    <tr>\n",
       "      <th>3</th>\n",
       "      <td>2017-12-17</td>\n",
       "      <td>44</td>\n",
       "    </tr>\n",
       "    <tr>\n",
       "      <th>4</th>\n",
       "      <td>2017-12-24</td>\n",
       "      <td>39</td>\n",
       "    </tr>\n",
       "    <tr>\n",
       "      <th>...</th>\n",
       "      <td>...</td>\n",
       "      <td>...</td>\n",
       "    </tr>\n",
       "    <tr>\n",
       "      <th>255</th>\n",
       "      <td>2022-10-16</td>\n",
       "      <td>31</td>\n",
       "    </tr>\n",
       "    <tr>\n",
       "      <th>256</th>\n",
       "      <td>2022-10-23</td>\n",
       "      <td>32</td>\n",
       "    </tr>\n",
       "    <tr>\n",
       "      <th>257</th>\n",
       "      <td>2022-10-30</td>\n",
       "      <td>27</td>\n",
       "    </tr>\n",
       "    <tr>\n",
       "      <th>258</th>\n",
       "      <td>2022-11-06</td>\n",
       "      <td>29</td>\n",
       "    </tr>\n",
       "    <tr>\n",
       "      <th>259</th>\n",
       "      <td>2022-11-13</td>\n",
       "      <td>31</td>\n",
       "    </tr>\n",
       "  </tbody>\n",
       "</table>\n",
       "<p>260 rows × 2 columns</p>\n",
       "</div>"
      ],
      "text/plain": [
       "           date  SK하이닉스\n",
       "0    2017-11-26      49\n",
       "1    2017-12-03      46\n",
       "2    2017-12-10      37\n",
       "3    2017-12-17      44\n",
       "4    2017-12-24      39\n",
       "..          ...     ...\n",
       "255  2022-10-16      31\n",
       "256  2022-10-23      32\n",
       "257  2022-10-30      27\n",
       "258  2022-11-06      29\n",
       "259  2022-11-13      31\n",
       "\n",
       "[260 rows x 2 columns]"
      ]
     },
     "execution_count": 12,
     "metadata": {},
     "output_type": "execute_result"
    }
   ],
   "source": [
    "data_path = CACHED_PATH / 'KR_SK하이닉스_2017-11-26 2022-11-11.csv'\n",
    "pd.read_csv(data_path)"
   ]
  },
  {
   "cell_type": "code",
   "execution_count": null,
   "id": "ec0c12ad-ac3c-436e-a2c8-74dae17330bf",
   "metadata": {},
   "outputs": [],
   "source": []
  }
 ],
 "metadata": {
  "kernelspec": {
   "display_name": "Python 3 (ipykernel)",
   "language": "python",
   "name": "python3"
  },
  "language_info": {
   "codemirror_mode": {
    "name": "ipython",
    "version": 3
   },
   "file_extension": ".py",
   "mimetype": "text/x-python",
   "name": "python",
   "nbconvert_exporter": "python",
   "pygments_lexer": "ipython3",
   "version": "3.10.6"
  }
 },
 "nbformat": 4,
 "nbformat_minor": 5
}
